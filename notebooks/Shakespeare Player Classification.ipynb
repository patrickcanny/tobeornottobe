{
 "cells": [
  {
   "cell_type": "markdown",
   "metadata": {},
   "source": [
    "EECS 731: To Be or Not To Be...That is the Question.\n",
    "\n",
    "Data modeling and classification using the Shakespeare dataset from Kaggle."
   ]
  },
  {
   "cell_type": "code",
   "execution_count": 1,
   "metadata": {},
   "outputs": [],
   "source": [
    "import pandas as pd\n",
    "import numpy as np\n",
    "import matplotlib.pyplot as plt"
   ]
  },
  {
   "cell_type": "code",
   "execution_count": 2,
   "metadata": {},
   "outputs": [
    {
     "data": {
      "text/html": [
       "<div>\n",
       "<style scoped>\n",
       "    .dataframe tbody tr th:only-of-type {\n",
       "        vertical-align: middle;\n",
       "    }\n",
       "\n",
       "    .dataframe tbody tr th {\n",
       "        vertical-align: top;\n",
       "    }\n",
       "\n",
       "    .dataframe thead th {\n",
       "        text-align: right;\n",
       "    }\n",
       "</style>\n",
       "<table border=\"1\" class=\"dataframe\">\n",
       "  <thead>\n",
       "    <tr style=\"text-align: right;\">\n",
       "      <th></th>\n",
       "      <th>Dataline</th>\n",
       "      <th>Play</th>\n",
       "      <th>PlayerLinenumber</th>\n",
       "      <th>ActSceneLine</th>\n",
       "      <th>Player</th>\n",
       "      <th>PlayerLine</th>\n",
       "    </tr>\n",
       "  </thead>\n",
       "  <tbody>\n",
       "    <tr>\n",
       "      <th>0</th>\n",
       "      <td>1</td>\n",
       "      <td>Henry IV</td>\n",
       "      <td>NaN</td>\n",
       "      <td>NaN</td>\n",
       "      <td>NaN</td>\n",
       "      <td>ACT I</td>\n",
       "    </tr>\n",
       "    <tr>\n",
       "      <th>1</th>\n",
       "      <td>2</td>\n",
       "      <td>Henry IV</td>\n",
       "      <td>NaN</td>\n",
       "      <td>NaN</td>\n",
       "      <td>NaN</td>\n",
       "      <td>SCENE I. London. The palace.</td>\n",
       "    </tr>\n",
       "    <tr>\n",
       "      <th>2</th>\n",
       "      <td>3</td>\n",
       "      <td>Henry IV</td>\n",
       "      <td>NaN</td>\n",
       "      <td>NaN</td>\n",
       "      <td>NaN</td>\n",
       "      <td>Enter KING HENRY, LORD JOHN OF LANCASTER, the ...</td>\n",
       "    </tr>\n",
       "    <tr>\n",
       "      <th>3</th>\n",
       "      <td>4</td>\n",
       "      <td>Henry IV</td>\n",
       "      <td>1.0</td>\n",
       "      <td>1.1.1</td>\n",
       "      <td>KING HENRY IV</td>\n",
       "      <td>So shaken as we are, so wan with care,</td>\n",
       "    </tr>\n",
       "    <tr>\n",
       "      <th>4</th>\n",
       "      <td>5</td>\n",
       "      <td>Henry IV</td>\n",
       "      <td>1.0</td>\n",
       "      <td>1.1.2</td>\n",
       "      <td>KING HENRY IV</td>\n",
       "      <td>Find we a time for frighted peace to pant,</td>\n",
       "    </tr>\n",
       "    <tr>\n",
       "      <th>5</th>\n",
       "      <td>6</td>\n",
       "      <td>Henry IV</td>\n",
       "      <td>1.0</td>\n",
       "      <td>1.1.3</td>\n",
       "      <td>KING HENRY IV</td>\n",
       "      <td>And breathe short-winded accents of new broils</td>\n",
       "    </tr>\n",
       "    <tr>\n",
       "      <th>6</th>\n",
       "      <td>7</td>\n",
       "      <td>Henry IV</td>\n",
       "      <td>1.0</td>\n",
       "      <td>1.1.4</td>\n",
       "      <td>KING HENRY IV</td>\n",
       "      <td>To be commenced in strands afar remote.</td>\n",
       "    </tr>\n",
       "    <tr>\n",
       "      <th>7</th>\n",
       "      <td>8</td>\n",
       "      <td>Henry IV</td>\n",
       "      <td>1.0</td>\n",
       "      <td>1.1.5</td>\n",
       "      <td>KING HENRY IV</td>\n",
       "      <td>No more the thirsty entrance of this soil</td>\n",
       "    </tr>\n",
       "    <tr>\n",
       "      <th>8</th>\n",
       "      <td>9</td>\n",
       "      <td>Henry IV</td>\n",
       "      <td>1.0</td>\n",
       "      <td>1.1.6</td>\n",
       "      <td>KING HENRY IV</td>\n",
       "      <td>Shall daub her lips with her own children's bl...</td>\n",
       "    </tr>\n",
       "    <tr>\n",
       "      <th>9</th>\n",
       "      <td>10</td>\n",
       "      <td>Henry IV</td>\n",
       "      <td>1.0</td>\n",
       "      <td>1.1.7</td>\n",
       "      <td>KING HENRY IV</td>\n",
       "      <td>Nor more shall trenching war channel her fields,</td>\n",
       "    </tr>\n",
       "  </tbody>\n",
       "</table>\n",
       "</div>"
      ],
      "text/plain": [
       "   Dataline      Play  PlayerLinenumber ActSceneLine         Player  \\\n",
       "0         1  Henry IV               NaN          NaN            NaN   \n",
       "1         2  Henry IV               NaN          NaN            NaN   \n",
       "2         3  Henry IV               NaN          NaN            NaN   \n",
       "3         4  Henry IV               1.0        1.1.1  KING HENRY IV   \n",
       "4         5  Henry IV               1.0        1.1.2  KING HENRY IV   \n",
       "5         6  Henry IV               1.0        1.1.3  KING HENRY IV   \n",
       "6         7  Henry IV               1.0        1.1.4  KING HENRY IV   \n",
       "7         8  Henry IV               1.0        1.1.5  KING HENRY IV   \n",
       "8         9  Henry IV               1.0        1.1.6  KING HENRY IV   \n",
       "9        10  Henry IV               1.0        1.1.7  KING HENRY IV   \n",
       "\n",
       "                                          PlayerLine  \n",
       "0                                              ACT I  \n",
       "1                       SCENE I. London. The palace.  \n",
       "2  Enter KING HENRY, LORD JOHN OF LANCASTER, the ...  \n",
       "3             So shaken as we are, so wan with care,  \n",
       "4         Find we a time for frighted peace to pant,  \n",
       "5     And breathe short-winded accents of new broils  \n",
       "6            To be commenced in strands afar remote.  \n",
       "7          No more the thirsty entrance of this soil  \n",
       "8  Shall daub her lips with her own children's bl...  \n",
       "9   Nor more shall trenching war channel her fields,  "
      ]
     },
     "execution_count": 2,
     "metadata": {},
     "output_type": "execute_result"
    }
   ],
   "source": [
    "# Load Data Into initial frame\n",
    "shakes = pd.read_csv(\"../data/raw/Shakespeare_data.csv\")\n",
    "shakes.head(10)"
   ]
  },
  {
   "cell_type": "code",
   "execution_count": 3,
   "metadata": {},
   "outputs": [
    {
     "data": {
      "text/html": [
       "<div>\n",
       "<style scoped>\n",
       "    .dataframe tbody tr th:only-of-type {\n",
       "        vertical-align: middle;\n",
       "    }\n",
       "\n",
       "    .dataframe tbody tr th {\n",
       "        vertical-align: top;\n",
       "    }\n",
       "\n",
       "    .dataframe thead th {\n",
       "        text-align: right;\n",
       "    }\n",
       "</style>\n",
       "<table border=\"1\" class=\"dataframe\">\n",
       "  <thead>\n",
       "    <tr style=\"text-align: right;\">\n",
       "      <th></th>\n",
       "      <th>Play</th>\n",
       "      <th>PlayerLinenumber</th>\n",
       "      <th>ActSceneLine</th>\n",
       "      <th>Player</th>\n",
       "      <th>PlayerLine</th>\n",
       "    </tr>\n",
       "  </thead>\n",
       "  <tbody>\n",
       "    <tr>\n",
       "      <th>0</th>\n",
       "      <td>Henry IV</td>\n",
       "      <td>1.0</td>\n",
       "      <td>1.1.1</td>\n",
       "      <td>KING HENRY IV</td>\n",
       "      <td>So shaken as we are, so wan with care,</td>\n",
       "    </tr>\n",
       "    <tr>\n",
       "      <th>1</th>\n",
       "      <td>Henry IV</td>\n",
       "      <td>1.0</td>\n",
       "      <td>1.1.2</td>\n",
       "      <td>KING HENRY IV</td>\n",
       "      <td>Find we a time for frighted peace to pant,</td>\n",
       "    </tr>\n",
       "    <tr>\n",
       "      <th>2</th>\n",
       "      <td>Henry IV</td>\n",
       "      <td>1.0</td>\n",
       "      <td>1.1.3</td>\n",
       "      <td>KING HENRY IV</td>\n",
       "      <td>And breathe short-winded accents of new broils</td>\n",
       "    </tr>\n",
       "    <tr>\n",
       "      <th>3</th>\n",
       "      <td>Henry IV</td>\n",
       "      <td>1.0</td>\n",
       "      <td>1.1.4</td>\n",
       "      <td>KING HENRY IV</td>\n",
       "      <td>To be commenced in strands afar remote.</td>\n",
       "    </tr>\n",
       "    <tr>\n",
       "      <th>4</th>\n",
       "      <td>Henry IV</td>\n",
       "      <td>1.0</td>\n",
       "      <td>1.1.5</td>\n",
       "      <td>KING HENRY IV</td>\n",
       "      <td>No more the thirsty entrance of this soil</td>\n",
       "    </tr>\n",
       "    <tr>\n",
       "      <th>5</th>\n",
       "      <td>Henry IV</td>\n",
       "      <td>1.0</td>\n",
       "      <td>1.1.6</td>\n",
       "      <td>KING HENRY IV</td>\n",
       "      <td>Shall daub her lips with her own children's bl...</td>\n",
       "    </tr>\n",
       "    <tr>\n",
       "      <th>6</th>\n",
       "      <td>Henry IV</td>\n",
       "      <td>1.0</td>\n",
       "      <td>1.1.7</td>\n",
       "      <td>KING HENRY IV</td>\n",
       "      <td>Nor more shall trenching war channel her fields,</td>\n",
       "    </tr>\n",
       "    <tr>\n",
       "      <th>7</th>\n",
       "      <td>Henry IV</td>\n",
       "      <td>1.0</td>\n",
       "      <td>1.1.8</td>\n",
       "      <td>KING HENRY IV</td>\n",
       "      <td>Nor bruise her flowerets with the armed hoofs</td>\n",
       "    </tr>\n",
       "    <tr>\n",
       "      <th>8</th>\n",
       "      <td>Henry IV</td>\n",
       "      <td>1.0</td>\n",
       "      <td>1.1.9</td>\n",
       "      <td>KING HENRY IV</td>\n",
       "      <td>Of hostile paces: those opposed eyes,</td>\n",
       "    </tr>\n",
       "    <tr>\n",
       "      <th>9</th>\n",
       "      <td>Henry IV</td>\n",
       "      <td>1.0</td>\n",
       "      <td>1.1.10</td>\n",
       "      <td>KING HENRY IV</td>\n",
       "      <td>Which, like the meteors of a troubled heaven,</td>\n",
       "    </tr>\n",
       "  </tbody>\n",
       "</table>\n",
       "</div>"
      ],
      "text/plain": [
       "       Play  PlayerLinenumber ActSceneLine         Player  \\\n",
       "0  Henry IV               1.0        1.1.1  KING HENRY IV   \n",
       "1  Henry IV               1.0        1.1.2  KING HENRY IV   \n",
       "2  Henry IV               1.0        1.1.3  KING HENRY IV   \n",
       "3  Henry IV               1.0        1.1.4  KING HENRY IV   \n",
       "4  Henry IV               1.0        1.1.5  KING HENRY IV   \n",
       "5  Henry IV               1.0        1.1.6  KING HENRY IV   \n",
       "6  Henry IV               1.0        1.1.7  KING HENRY IV   \n",
       "7  Henry IV               1.0        1.1.8  KING HENRY IV   \n",
       "8  Henry IV               1.0        1.1.9  KING HENRY IV   \n",
       "9  Henry IV               1.0       1.1.10  KING HENRY IV   \n",
       "\n",
       "                                          PlayerLine  \n",
       "0             So shaken as we are, so wan with care,  \n",
       "1         Find we a time for frighted peace to pant,  \n",
       "2     And breathe short-winded accents of new broils  \n",
       "3            To be commenced in strands afar remote.  \n",
       "4          No more the thirsty entrance of this soil  \n",
       "5  Shall daub her lips with her own children's bl...  \n",
       "6   Nor more shall trenching war channel her fields,  \n",
       "7      Nor bruise her flowerets with the armed hoofs  \n",
       "8              Of hostile paces: those opposed eyes,  \n",
       "9      Which, like the meteors of a troubled heaven,  "
      ]
     },
     "execution_count": 3,
     "metadata": {},
     "output_type": "execute_result"
    }
   ],
   "source": [
    "# Trim off any entries where there is no player, since we don't\n",
    "# really need this information in a player classification problem\n",
    "\n",
    "shakes_t = shakes[pd.notnull(shakes['Player'])]\n",
    "shakes_t = shakes_t.reset_index(drop = True)\n",
    "shakes_t['ActSceneLine'] = shakes_t['ActSceneLine'].astype(str)\n",
    "del shakes_t['Dataline']\n",
    "shakes_t.head(10)"
   ]
  },
  {
   "cell_type": "markdown",
   "metadata": {},
   "source": [
    "I initially thought it would be nice to get an idea of the players that are speaking the most in all of the shakespeare plays, so I made a quick visualization showing the top 15 \"chattiest players\" in all of the Shakespeare plays. If the classifier that we build works out, we likely will be seeing larger frequency of players from this list."
   ]
  },
  {
   "cell_type": "code",
   "execution_count": 4,
   "metadata": {
    "scrolled": true
   },
   "outputs": [
    {
     "data": {
      "text/plain": [
       "Text(0,0.5,'Player')"
      ]
     },
     "execution_count": 4,
     "metadata": {},
     "output_type": "execute_result"
    },
    {
     "data": {
      "image/png": "[encoded data removed]",
      "text/plain": [
       "<Figure size 720x720 with 1 Axes>"
      ]
     },
     "metadata": {},
     "output_type": "display_data"
    }
   ],
   "source": [
    "# Determine players that talk the most\n",
    "chattiestPlayers = shakes_t['Player'].value_counts()\n",
    "g = chattiestPlayers.sort_values().tail(15).plot(kind='barh', figsize=(10,10), zorder=2)\n",
    "g.set_xlabel(\"Number of Lines\", labelpad=20, weight='bold', size = 11)\n",
    "g.set_ylabel(\"Player\", labelpad=20, weight='bold', size = 11)"
   ]
  },
  {
   "cell_type": "code",
   "execution_count": 5,
   "metadata": {},
   "outputs": [],
   "source": [
    "# I used a label encoder to enumerate all the values seen\n",
    "from sklearn.preprocessing import LabelEncoder\n",
    "le = LabelEncoder()\n",
    "le.fit(shakes_t['Player'])\n",
    "shakes_t['Player'] = le.transform(shakes_t['Player'])"
   ]
  },
  {
   "cell_type": "code",
   "execution_count": 6,
   "metadata": {},
   "outputs": [],
   "source": [
    "le.fit(shakes_t['ActSceneLine'])\n",
    "shakes_t['ActSceneLine'] = le.transform(shakes_t['ActSceneLine'])"
   ]
  },
  {
   "cell_type": "code",
   "execution_count": 7,
   "metadata": {
    "scrolled": true
   },
   "outputs": [
    {
     "data": {
      "text/html": [
       "<div>\n",
       "<style scoped>\n",
       "    .dataframe tbody tr th:only-of-type {\n",
       "        vertical-align: middle;\n",
       "    }\n",
       "\n",
       "    .dataframe tbody tr th {\n",
       "        vertical-align: top;\n",
       "    }\n",
       "\n",
       "    .dataframe thead th {\n",
       "        text-align: right;\n",
       "    }\n",
       "</style>\n",
       "<table border=\"1\" class=\"dataframe\">\n",
       "  <thead>\n",
       "    <tr style=\"text-align: right;\">\n",
       "      <th></th>\n",
       "      <th>Play</th>\n",
       "      <th>PlayerLinenumber</th>\n",
       "      <th>ActSceneLine</th>\n",
       "      <th>Player</th>\n",
       "      <th>PlayerLine</th>\n",
       "    </tr>\n",
       "  </thead>\n",
       "  <tbody>\n",
       "    <tr>\n",
       "      <th>0</th>\n",
       "      <td>9</td>\n",
       "      <td>1.0</td>\n",
       "      <td>324</td>\n",
       "      <td>457</td>\n",
       "      <td>So shaken as we are, so wan with care,</td>\n",
       "    </tr>\n",
       "    <tr>\n",
       "      <th>1</th>\n",
       "      <td>9</td>\n",
       "      <td>1.0</td>\n",
       "      <td>435</td>\n",
       "      <td>457</td>\n",
       "      <td>Find we a time for frighted peace to pant,</td>\n",
       "    </tr>\n",
       "    <tr>\n",
       "      <th>2</th>\n",
       "      <td>9</td>\n",
       "      <td>1.0</td>\n",
       "      <td>546</td>\n",
       "      <td>457</td>\n",
       "      <td>And breathe short-winded accents of new broils</td>\n",
       "    </tr>\n",
       "    <tr>\n",
       "      <th>3</th>\n",
       "      <td>9</td>\n",
       "      <td>1.0</td>\n",
       "      <td>657</td>\n",
       "      <td>457</td>\n",
       "      <td>To be commenced in strands afar remote.</td>\n",
       "    </tr>\n",
       "    <tr>\n",
       "      <th>4</th>\n",
       "      <td>9</td>\n",
       "      <td>1.0</td>\n",
       "      <td>768</td>\n",
       "      <td>457</td>\n",
       "      <td>No more the thirsty entrance of this soil</td>\n",
       "    </tr>\n",
       "    <tr>\n",
       "      <th>5</th>\n",
       "      <td>9</td>\n",
       "      <td>1.0</td>\n",
       "      <td>781</td>\n",
       "      <td>457</td>\n",
       "      <td>Shall daub her lips with her own children's bl...</td>\n",
       "    </tr>\n",
       "    <tr>\n",
       "      <th>6</th>\n",
       "      <td>9</td>\n",
       "      <td>1.0</td>\n",
       "      <td>792</td>\n",
       "      <td>457</td>\n",
       "      <td>Nor more shall trenching war channel her fields,</td>\n",
       "    </tr>\n",
       "    <tr>\n",
       "      <th>7</th>\n",
       "      <td>9</td>\n",
       "      <td>1.0</td>\n",
       "      <td>803</td>\n",
       "      <td>457</td>\n",
       "      <td>Nor bruise her flowerets with the armed hoofs</td>\n",
       "    </tr>\n",
       "    <tr>\n",
       "      <th>8</th>\n",
       "      <td>9</td>\n",
       "      <td>1.0</td>\n",
       "      <td>814</td>\n",
       "      <td>457</td>\n",
       "      <td>Of hostile paces: those opposed eyes,</td>\n",
       "    </tr>\n",
       "    <tr>\n",
       "      <th>9</th>\n",
       "      <td>9</td>\n",
       "      <td>1.0</td>\n",
       "      <td>325</td>\n",
       "      <td>457</td>\n",
       "      <td>Which, like the meteors of a troubled heaven,</td>\n",
       "    </tr>\n",
       "  </tbody>\n",
       "</table>\n",
       "</div>"
      ],
      "text/plain": [
       "   Play  PlayerLinenumber  ActSceneLine  Player  \\\n",
       "0     9               1.0           324     457   \n",
       "1     9               1.0           435     457   \n",
       "2     9               1.0           546     457   \n",
       "3     9               1.0           657     457   \n",
       "4     9               1.0           768     457   \n",
       "5     9               1.0           781     457   \n",
       "6     9               1.0           792     457   \n",
       "7     9               1.0           803     457   \n",
       "8     9               1.0           814     457   \n",
       "9     9               1.0           325     457   \n",
       "\n",
       "                                          PlayerLine  \n",
       "0             So shaken as we are, so wan with care,  \n",
       "1         Find we a time for frighted peace to pant,  \n",
       "2     And breathe short-winded accents of new broils  \n",
       "3            To be commenced in strands afar remote.  \n",
       "4          No more the thirsty entrance of this soil  \n",
       "5  Shall daub her lips with her own children's bl...  \n",
       "6   Nor more shall trenching war channel her fields,  \n",
       "7      Nor bruise her flowerets with the armed hoofs  \n",
       "8              Of hostile paces: those opposed eyes,  \n",
       "9      Which, like the meteors of a troubled heaven,  "
      ]
     },
     "execution_count": 7,
     "metadata": {},
     "output_type": "execute_result"
    }
   ],
   "source": [
    "le.fit(shakes_t['Play'])\n",
    "shakes_t['Play'] = le.transform(shakes_t['Play'])\n",
    "shakes_t.head(10)"
   ]
  },
  {
   "cell_type": "markdown",
   "metadata": {},
   "source": [
    "In future work, the data above could be used as an additional feature for all of the players. Their total number of lines could be added as an additional column in the dataframe. "
   ]
  },
  {
   "cell_type": "markdown",
   "metadata": {},
   "source": [
    "Next, I figured that it woukld be good to split the dataset into a training set, testing set, and a validation set.\n",
    "\n",
    "First, all of the rows in the dataset need to be shuffled in order to ensure an even distribution of plays and players are represented.\n",
    "\n",
    "Next, I partitioned the dataset into an 80-10-10 split from this randomized set, and saved the corresponding datasets."
   ]
  },
  {
   "cell_type": "code",
   "execution_count": 8,
   "metadata": {},
   "outputs": [],
   "source": [
    "# Take random samples from the dataset using 'sample' and preserve\n",
    "# state with 'random_state'\n",
    "# Unfortunately, I don't believe that this is a partition.\n",
    "training = shakes_t.sample(frac=0.8, random_state=1)\n",
    "testing = shakes_t.sample(frac=0.1, random_state=1)\n",
    "validation = shakes_t.sample(frac=0.1, random_state=1)"
   ]
  },
  {
   "cell_type": "code",
   "execution_count": 9,
   "metadata": {},
   "outputs": [],
   "source": [
    "# Refactor dataframes so that the decision, Player, is the final col\n",
    "training = training[['Play', 'PlayerLinenumber', 'ActSceneLine', 'Player']]\n",
    "testing = testing[['Play', 'PlayerLinenumber', 'ActSceneLine', 'Player']]\n",
    "validation = validation[['Play', 'PlayerLinenumber', 'ActSceneLine', 'Player']]\n",
    "\n",
    "# Save new dataframes\n",
    "training.to_csv('../data/processed/training.csv', compression='gzip')\n",
    "testing.to_csv('../data/processed/testing.csv', compression='gzip')\n",
    "validation.to_csv('../data/processed/validation.csv', compression='gzip')"
   ]
  },
  {
   "cell_type": "markdown",
   "metadata": {},
   "source": [
    "Next, I wanted to start building out some sort of classification model. I figured that Random Forests would be a good place to start given its high accclaim from some of my colleagues and Martin. "
   ]
  },
  {
   "cell_type": "code",
   "execution_count": 10,
   "metadata": {},
   "outputs": [],
   "source": [
    "# Set Up Random Forests Classifier\n",
    "from sklearn.ensemble import RandomForestClassifier\n"
   ]
  },
  {
   "cell_type": "code",
   "execution_count": 11,
   "metadata": {},
   "outputs": [],
   "source": [
    "# Next, establish decision.\n",
    "D = training['Player']"
   ]
  },
  {
   "cell_type": "code",
   "execution_count": 12,
   "metadata": {},
   "outputs": [
    {
     "data": {
      "text/plain": [
       "['Play', 'PlayerLinenumber', 'ActSceneLine']"
      ]
     },
     "execution_count": 12,
     "metadata": {},
     "output_type": "execute_result"
    }
   ],
   "source": [
    "# Features are every other meaningful column\n",
    "features = ['Play', 'PlayerLinenumber', 'ActSceneLine']\n",
    "features"
   ]
  },
  {
   "cell_type": "markdown",
   "metadata": {},
   "source": [
    "At this point, it is probably best to test out the classifier by training it on the training set. From there, we should be able to predict the player on the training and validation sets."
   ]
  },
  {
   "cell_type": "code",
   "execution_count": 13,
   "metadata": {},
   "outputs": [],
   "source": [
    "training = training.drop('Player', 1)\n",
    "clf = RandomForestClassifier(n_jobs=2, random_state=0)\n",
    "initialFit = clf.fit(training, D)"
   ]
  },
  {
   "cell_type": "code",
   "execution_count": 14,
   "metadata": {},
   "outputs": [
    {
     "name": "stdout",
     "output_type": "stream",
     "text": [
      "{'Play': 0.28579579112121783, 'PlayerLinenumber': 0.2278898698048018, 'ActSceneLine': 0.4863143390739804}\n"
     ]
    }
   ],
   "source": [
    "# Show feature importance\n",
    "feats = {} \n",
    "for feature, importance in zip(training.columns, clf.feature_importances_):\n",
    "    feats[feature] = importance \n",
    "print(feats)"
   ]
  },
  {
   "cell_type": "code",
   "execution_count": 15,
   "metadata": {},
   "outputs": [
    {
     "data": {
      "text/html": [
       "<div>\n",
       "<style scoped>\n",
       "    .dataframe tbody tr th:only-of-type {\n",
       "        vertical-align: middle;\n",
       "    }\n",
       "\n",
       "    .dataframe tbody tr th {\n",
       "        vertical-align: top;\n",
       "    }\n",
       "\n",
       "    .dataframe thead th {\n",
       "        text-align: right;\n",
       "    }\n",
       "</style>\n",
       "<table border=\"1\" class=\"dataframe\">\n",
       "  <thead>\n",
       "    <tr style=\"text-align: right;\">\n",
       "      <th></th>\n",
       "      <th>Play</th>\n",
       "      <th>PlayerLinenumber</th>\n",
       "      <th>ActSceneLine</th>\n",
       "      <th>Player</th>\n",
       "    </tr>\n",
       "  </thead>\n",
       "  <tbody>\n",
       "    <tr>\n",
       "      <th>93046</th>\n",
       "      <td>29</td>\n",
       "      <td>21.0</td>\n",
       "      <td>7819</td>\n",
       "      <td>43</td>\n",
       "    </tr>\n",
       "    <tr>\n",
       "      <th>26646</th>\n",
       "      <td>6</td>\n",
       "      <td>6.0</td>\n",
       "      <td>6913</td>\n",
       "      <td>907</td>\n",
       "    </tr>\n",
       "    <tr>\n",
       "      <th>46687</th>\n",
       "      <td>15</td>\n",
       "      <td>4.0</td>\n",
       "      <td>1545</td>\n",
       "      <td>138</td>\n",
       "    </tr>\n",
       "    <tr>\n",
       "      <th>54848</th>\n",
       "      <td>18</td>\n",
       "      <td>39.0</td>\n",
       "      <td>14353</td>\n",
       "      <td>664</td>\n",
       "    </tr>\n",
       "    <tr>\n",
       "      <th>18689</th>\n",
       "      <td>4</td>\n",
       "      <td>34.0</td>\n",
       "      <td>1306</td>\n",
       "      <td>148</td>\n",
       "    </tr>\n",
       "    <tr>\n",
       "      <th>26150</th>\n",
       "      <td>6</td>\n",
       "      <td>81.0</td>\n",
       "      <td>4429</td>\n",
       "      <td>107</td>\n",
       "    </tr>\n",
       "    <tr>\n",
       "      <th>70995</th>\n",
       "      <td>22</td>\n",
       "      <td>22.0</td>\n",
       "      <td>9364</td>\n",
       "      <td>156</td>\n",
       "    </tr>\n",
       "  </tbody>\n",
       "</table>\n",
       "</div>"
      ],
      "text/plain": [
       "       Play  PlayerLinenumber  ActSceneLine  Player\n",
       "93046    29              21.0          7819      43\n",
       "26646     6               6.0          6913     907\n",
       "46687    15               4.0          1545     138\n",
       "54848    18              39.0         14353     664\n",
       "18689     4              34.0          1306     148\n",
       "26150     6              81.0          4429     107\n",
       "70995    22              22.0          9364     156"
      ]
     },
     "execution_count": 15,
     "metadata": {},
     "output_type": "execute_result"
    }
   ],
   "source": [
    "testing.head(7)"
   ]
  },
  {
   "cell_type": "code",
   "execution_count": 16,
   "metadata": {
    "scrolled": true
   },
   "outputs": [
    {
     "name": "stdout",
     "output_type": "stream",
     "text": [
      "0.9778256575994254\n"
     ]
    }
   ],
   "source": [
    "# Now test it on another partition\n",
    "from sklearn.metrics import accuracy_score\n",
    "T = testing['Player']\n",
    "testing = testing.drop('Player', 1)\n",
    "predicted = clf.predict(testing)\n",
    "print(accuracy_score(T, predicted))"
   ]
  },
  {
   "cell_type": "markdown",
   "metadata": {},
   "source": [
    "Seems pretty good! "
   ]
  },
  {
   "cell_type": "code",
   "execution_count": 17,
   "metadata": {},
   "outputs": [
    {
     "data": {
      "text/html": [
       "<div>\n",
       "<style scoped>\n",
       "    .dataframe tbody tr th:only-of-type {\n",
       "        vertical-align: middle;\n",
       "    }\n",
       "\n",
       "    .dataframe tbody tr th {\n",
       "        vertical-align: top;\n",
       "    }\n",
       "\n",
       "    .dataframe thead th {\n",
       "        text-align: right;\n",
       "    }\n",
       "</style>\n",
       "<table border=\"1\" class=\"dataframe\">\n",
       "  <thead>\n",
       "    <tr style=\"text-align: right;\">\n",
       "      <th></th>\n",
       "      <th>Play</th>\n",
       "      <th>PlayerLinenumber</th>\n",
       "      <th>ActSceneLine</th>\n",
       "    </tr>\n",
       "  </thead>\n",
       "  <tbody>\n",
       "    <tr>\n",
       "      <th>93046</th>\n",
       "      <td>29</td>\n",
       "      <td>21.0</td>\n",
       "      <td>7819</td>\n",
       "    </tr>\n",
       "    <tr>\n",
       "      <th>26646</th>\n",
       "      <td>6</td>\n",
       "      <td>6.0</td>\n",
       "      <td>6913</td>\n",
       "    </tr>\n",
       "    <tr>\n",
       "      <th>46687</th>\n",
       "      <td>15</td>\n",
       "      <td>4.0</td>\n",
       "      <td>1545</td>\n",
       "    </tr>\n",
       "    <tr>\n",
       "      <th>54848</th>\n",
       "      <td>18</td>\n",
       "      <td>39.0</td>\n",
       "      <td>14353</td>\n",
       "    </tr>\n",
       "    <tr>\n",
       "      <th>18689</th>\n",
       "      <td>4</td>\n",
       "      <td>34.0</td>\n",
       "      <td>1306</td>\n",
       "    </tr>\n",
       "    <tr>\n",
       "      <th>26150</th>\n",
       "      <td>6</td>\n",
       "      <td>81.0</td>\n",
       "      <td>4429</td>\n",
       "    </tr>\n",
       "    <tr>\n",
       "      <th>70995</th>\n",
       "      <td>22</td>\n",
       "      <td>22.0</td>\n",
       "      <td>9364</td>\n",
       "    </tr>\n",
       "    <tr>\n",
       "      <th>31627</th>\n",
       "      <td>7</td>\n",
       "      <td>3.0</td>\n",
       "      <td>14955</td>\n",
       "    </tr>\n",
       "    <tr>\n",
       "      <th>25415</th>\n",
       "      <td>6</td>\n",
       "      <td>20.0</td>\n",
       "      <td>3267</td>\n",
       "    </tr>\n",
       "    <tr>\n",
       "      <th>10373</th>\n",
       "      <td>13</td>\n",
       "      <td>3.0</td>\n",
       "      <td>3698</td>\n",
       "    </tr>\n",
       "  </tbody>\n",
       "</table>\n",
       "</div>"
      ],
      "text/plain": [
       "       Play  PlayerLinenumber  ActSceneLine\n",
       "93046    29              21.0          7819\n",
       "26646     6               6.0          6913\n",
       "46687    15               4.0          1545\n",
       "54848    18              39.0         14353\n",
       "18689     4              34.0          1306\n",
       "26150     6              81.0          4429\n",
       "70995    22              22.0          9364\n",
       "31627     7               3.0         14955\n",
       "25415     6              20.0          3267\n",
       "10373    13               3.0          3698"
      ]
     },
     "execution_count": 17,
     "metadata": {},
     "output_type": "execute_result"
    }
   ],
   "source": [
    "# Some sanity checks since I thought that this model was a little too good to be true\n",
    "testing.head(10)"
   ]
  },
  {
   "cell_type": "code",
   "execution_count": 18,
   "metadata": {},
   "outputs": [
    {
     "data": {
      "text/plain": [
       "93046      43\n",
       "26646     907\n",
       "46687     138\n",
       "54848     664\n",
       "18689     148\n",
       "26150     107\n",
       "70995     156\n",
       "31627     658\n",
       "25415     107\n",
       "10373     162\n",
       "10853     700\n",
       "95094     846\n",
       "43352     186\n",
       "13348     454\n",
       "1289      663\n",
       "5387      835\n",
       "17114     707\n",
       "56700      70\n",
       "52832      91\n",
       "34829     455\n",
       "20625     550\n",
       "103078    547\n",
       "774       267\n",
       "25414     558\n",
       "84206     692\n",
       "51917     247\n",
       "92619     125\n",
       "32939     481\n",
       "33586     906\n",
       "99465     625\n",
       "         ... \n",
       "90066      90\n",
       "27179     171\n",
       "89127     512\n",
       "57162     533\n",
       "34        912\n",
       "56918     533\n",
       "94827     728\n",
       "82861     587\n",
       "46030     717\n",
       "47041     107\n",
       "11251     692\n",
       "40993     108\n",
       "98850     850\n",
       "41665     691\n",
       "60554     237\n",
       "381       418\n",
       "61326     237\n",
       "14026     628\n",
       "81090     227\n",
       "57683     536\n",
       "82507     361\n",
       "31105     375\n",
       "74311     140\n",
       "86164     445\n",
       "103269    193\n",
       "60670     237\n",
       "43430     177\n",
       "38548     458\n",
       "30845     430\n",
       "40643     186\n",
       "Name: Player, Length: 11139, dtype: int64"
      ]
     },
     "execution_count": 18,
     "metadata": {},
     "output_type": "execute_result"
    }
   ],
   "source": [
    "T"
   ]
  },
  {
   "cell_type": "code",
   "execution_count": 19,
   "metadata": {
    "scrolled": true
   },
   "outputs": [
    {
     "name": "stdout",
     "output_type": "stream",
     "text": [
      "0.9778256575994254\n"
     ]
    }
   ],
   "source": [
    "# Finally, look at validation set in the same way.\n",
    "V = validation['Player']\n",
    "validation = validation.drop('Player', 1)\n",
    "predictedV = clf.predict(validation)\n",
    "print(accuracy_score(V, predictedV))"
   ]
  }
 ],
 "metadata": {
  "kernelspec": {
   "display_name": "Python 3",
   "language": "python",
   "name": "python3"
  },
  "language_info": {
   "codemirror_mode": {
    "name": "ipython",
    "version": 3
   },
   "file_extension": ".py",
   "mimetype": "text/x-python",
   "name": "python",
   "nbconvert_exporter": "python",
   "pygments_lexer": "ipython3",
   "version": "3.6.5"
  }
 },
 "nbformat": 4,
 "nbformat_minor": 2
}
